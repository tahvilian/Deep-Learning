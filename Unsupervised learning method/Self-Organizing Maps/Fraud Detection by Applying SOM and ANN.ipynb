{
 "cells": [
  {
   "cell_type": "markdown",
   "metadata": {
    "colab_type": "text",
    "id": "GJYk9gRO_W9P"
   },
   "source": [
    "# Applying SOM and ANN for Fraud Detection\n",
    "\n",
    "In this project, the self-organizing map (SOM) method is applied to the credit card application dataset to detect the fraud between the banks' customers and then artificial nerual network (ANN) is applied  to predict the probability that each customer cheated or not. Thus the unsuprevised learning (SOM and supervised learning (ANN) methods should be combined. The dataset used here is obtained from \"Deep Learning A-Z 2023: Neural Networks, AI & ChatGPT Prize\" course. This project includes three parts:\n",
    "\n",
    "*  Part 1: Implementing SOM to detect the fraud flag\n",
    "*  Part 2: Going from Unsupervised to Supervised Deep Learning by using fraud flag as target\n",
    "*  Part 3: Implementing ANN to estimate the probability of fraud for each customer\n"
   ]
  },
  {
   "cell_type": "markdown",
   "metadata": {
    "colab_type": "text",
    "id": "D8PA8C_X_fHe"
   },
   "source": [
    "## Part 1 - SOM"
   ]
  },
  {
   "cell_type": "markdown",
   "metadata": {
    "colab_type": "text",
    "id": "48btSZ8cAAVt"
   },
   "source": [
    "Install MiniSom Package for implementing the SOM"
   ]
  },
  {
   "cell_type": "code",
   "execution_count": 0,
   "metadata": {
    "colab": {
     "base_uri": "https://localhost:8080/",
     "height": 34
    },
    "colab_type": "code",
    "id": "5ueD5zlVAAVu",
    "outputId": "3530328f-8332-45b2-cadc-dec1cd573540"
   },
   "outputs": [
    {
     "name": "stdout",
     "output_type": "stream",
     "text": [
      "Requirement already satisfied: MiniSom in /usr/local/lib/python3.6/dist-packages (2.2.5)\n"
     ]
    }
   ],
   "source": [
    "!pip install MiniSom"
   ]
  },
  {
   "cell_type": "markdown",
   "metadata": {
    "colab_type": "text",
    "id": "y2L7M7QLAAVx"
   },
   "source": [
    "## Importing the libraries\n"
   ]
  },
  {
   "cell_type": "code",
   "execution_count": 6,
   "metadata": {
    "colab": {},
    "colab_type": "code",
    "id": "zy0_GMcbAAVx"
   },
   "outputs": [],
   "source": [
    "import numpy as np\n",
    "import pandas as pd\n",
    "import matplotlib.pyplot as plt"
   ]
  },
  {
   "cell_type": "markdown",
   "metadata": {
    "colab_type": "text",
    "id": "M74YAQUJAAVz"
   },
   "source": [
    "## Importing the dataset"
   ]
  },
  {
   "cell_type": "code",
   "execution_count": 7,
   "metadata": {
    "colab": {},
    "colab_type": "code",
    "id": "oP387iJvAAV0"
   },
   "outputs": [],
   "source": [
    "dataset = pd.read_csv('C:\\homa\\python\\Self-Organizing-Maps\\Self_Organizing_Maps\\Credit_Card_Applications.csv')\n",
    "X = dataset.iloc[:, :-1].values \n",
    "y = dataset.iloc[:, -1].values"
   ]
  },
  {
   "cell_type": "code",
   "execution_count": 9,
   "metadata": {},
   "outputs": [
    {
     "data": {
      "text/plain": [
       "(690, 15)"
      ]
     },
     "execution_count": 9,
     "metadata": {},
     "output_type": "execute_result"
    }
   ],
   "source": [
    "np.shape(X)"
   ]
  },
  {
   "cell_type": "code",
   "execution_count": 8,
   "metadata": {},
   "outputs": [
    {
     "data": {
      "text/html": [
       "<div>\n",
       "<style scoped>\n",
       "    .dataframe tbody tr th:only-of-type {\n",
       "        vertical-align: middle;\n",
       "    }\n",
       "\n",
       "    .dataframe tbody tr th {\n",
       "        vertical-align: top;\n",
       "    }\n",
       "\n",
       "    .dataframe thead th {\n",
       "        text-align: right;\n",
       "    }\n",
       "</style>\n",
       "<table border=\"1\" class=\"dataframe\">\n",
       "  <thead>\n",
       "    <tr style=\"text-align: right;\">\n",
       "      <th></th>\n",
       "      <th>CustomerID</th>\n",
       "      <th>A1</th>\n",
       "      <th>A2</th>\n",
       "      <th>A3</th>\n",
       "      <th>A4</th>\n",
       "      <th>A5</th>\n",
       "      <th>A6</th>\n",
       "      <th>A7</th>\n",
       "      <th>A8</th>\n",
       "      <th>A9</th>\n",
       "      <th>A10</th>\n",
       "      <th>A11</th>\n",
       "      <th>A12</th>\n",
       "      <th>A13</th>\n",
       "      <th>A14</th>\n",
       "      <th>Class</th>\n",
       "    </tr>\n",
       "  </thead>\n",
       "  <tbody>\n",
       "    <tr>\n",
       "      <th>0</th>\n",
       "      <td>15776156</td>\n",
       "      <td>1</td>\n",
       "      <td>22.08</td>\n",
       "      <td>11.46</td>\n",
       "      <td>2</td>\n",
       "      <td>4</td>\n",
       "      <td>4</td>\n",
       "      <td>1.585</td>\n",
       "      <td>0</td>\n",
       "      <td>0</td>\n",
       "      <td>0</td>\n",
       "      <td>1</td>\n",
       "      <td>2</td>\n",
       "      <td>100</td>\n",
       "      <td>1213</td>\n",
       "      <td>0</td>\n",
       "    </tr>\n",
       "    <tr>\n",
       "      <th>1</th>\n",
       "      <td>15739548</td>\n",
       "      <td>0</td>\n",
       "      <td>22.67</td>\n",
       "      <td>7.00</td>\n",
       "      <td>2</td>\n",
       "      <td>8</td>\n",
       "      <td>4</td>\n",
       "      <td>0.165</td>\n",
       "      <td>0</td>\n",
       "      <td>0</td>\n",
       "      <td>0</td>\n",
       "      <td>0</td>\n",
       "      <td>2</td>\n",
       "      <td>160</td>\n",
       "      <td>1</td>\n",
       "      <td>0</td>\n",
       "    </tr>\n",
       "    <tr>\n",
       "      <th>2</th>\n",
       "      <td>15662854</td>\n",
       "      <td>0</td>\n",
       "      <td>29.58</td>\n",
       "      <td>1.75</td>\n",
       "      <td>1</td>\n",
       "      <td>4</td>\n",
       "      <td>4</td>\n",
       "      <td>1.250</td>\n",
       "      <td>0</td>\n",
       "      <td>0</td>\n",
       "      <td>0</td>\n",
       "      <td>1</td>\n",
       "      <td>2</td>\n",
       "      <td>280</td>\n",
       "      <td>1</td>\n",
       "      <td>0</td>\n",
       "    </tr>\n",
       "    <tr>\n",
       "      <th>3</th>\n",
       "      <td>15687688</td>\n",
       "      <td>0</td>\n",
       "      <td>21.67</td>\n",
       "      <td>11.50</td>\n",
       "      <td>1</td>\n",
       "      <td>5</td>\n",
       "      <td>3</td>\n",
       "      <td>0.000</td>\n",
       "      <td>1</td>\n",
       "      <td>1</td>\n",
       "      <td>11</td>\n",
       "      <td>1</td>\n",
       "      <td>2</td>\n",
       "      <td>0</td>\n",
       "      <td>1</td>\n",
       "      <td>1</td>\n",
       "    </tr>\n",
       "    <tr>\n",
       "      <th>4</th>\n",
       "      <td>15715750</td>\n",
       "      <td>1</td>\n",
       "      <td>20.17</td>\n",
       "      <td>8.17</td>\n",
       "      <td>2</td>\n",
       "      <td>6</td>\n",
       "      <td>4</td>\n",
       "      <td>1.960</td>\n",
       "      <td>1</td>\n",
       "      <td>1</td>\n",
       "      <td>14</td>\n",
       "      <td>0</td>\n",
       "      <td>2</td>\n",
       "      <td>60</td>\n",
       "      <td>159</td>\n",
       "      <td>1</td>\n",
       "    </tr>\n",
       "  </tbody>\n",
       "</table>\n",
       "</div>"
      ],
      "text/plain": [
       "   CustomerID  A1     A2     A3  A4  A5  A6     A7  A8  A9  A10  A11  A12  \\\n",
       "0    15776156   1  22.08  11.46   2   4   4  1.585   0   0    0    1    2   \n",
       "1    15739548   0  22.67   7.00   2   8   4  0.165   0   0    0    0    2   \n",
       "2    15662854   0  29.58   1.75   1   4   4  1.250   0   0    0    1    2   \n",
       "3    15687688   0  21.67  11.50   1   5   3  0.000   1   1   11    1    2   \n",
       "4    15715750   1  20.17   8.17   2   6   4  1.960   1   1   14    0    2   \n",
       "\n",
       "   A13   A14  Class  \n",
       "0  100  1213      0  \n",
       "1  160     1      0  \n",
       "2  280     1      0  \n",
       "3    0     1      1  \n",
       "4   60   159      1  "
      ]
     },
     "execution_count": 8,
     "metadata": {},
     "output_type": "execute_result"
    }
   ],
   "source": [
    "dataset.head()\n",
    "# class flag determines whether customer was approved for cridit card or not. we are intersted in those that are approved"
   ]
  },
  {
   "cell_type": "markdown",
   "metadata": {
    "colab_type": "text",
    "id": "xaNRHZwYAAV2"
   },
   "source": [
    "## Feature Scaling\n"
   ]
  },
  {
   "cell_type": "code",
   "execution_count": 6,
   "metadata": {
    "colab": {},
    "colab_type": "code",
    "id": "57QK6WXTAAV3"
   },
   "outputs": [],
   "source": [
    "from sklearn.preprocessing import MinMaxScaler\n",
    "sc = MinMaxScaler(feature_range = (0,1))\n",
    "X = sc.fit_transform(X)"
   ]
  },
  {
   "cell_type": "markdown",
   "metadata": {
    "colab_type": "text",
    "id": "WyD5sEHYAAV5"
   },
   "source": [
    "# Training the SOM\n",
    "Our dataset has 15 features.\n",
    "As a first step we should select the map(grid) size which is equvalent to the number of neurons in this case our map is 10 by 10, meaning the number of neurons is 100. \n",
    "As a second step, we assign a weight vector of length 15 (for each feature) to each node. These weight vectors are randomly initialized by small numbers close to zeros.\n",
    "In a third step, a random point from the dataset is selected and its euclidian distance to the weight vectors are calculated. the node that has minimum distance is called  winning node.\n",
    "In fourth step, the weight for this node and a neighberhood of this node are updated so that their weights move closer to the selected point.\n",
    " The above steps are repeated one by one for the remaining data points and the whole process would be repeated again for all data points by shrinking the neiber size until the neibourhood size can not be reduced anymore.\n",
    "\n",
    "\n"
   ]
  },
  {
   "cell_type": "code",
   "execution_count": 5,
   "metadata": {
    "colab": {},
    "colab_type": "code",
    "id": "-BXn8YphAAV6"
   },
   "outputs": [],
   "source": [
    "from minisom import MiniSom\n",
    "som = MiniSom(x=10, y=10, input_len= 15, sigma= 1.0, learning_rate = 0.5)\n",
    "som.random_weights_init(X)\n",
    "som.train_random(data = X, num_iteration = 100)"
   ]
  },
  {
   "cell_type": "markdown",
   "metadata": {
    "colab_type": "text",
    "id": "d9qf8w7sAAV8"
   },
   "source": [
    "# Visualizing the results\n",
    "After finding the SOM weights as explained above we create a Mean Interneuron Distance (MID) map from them. MID map is defined for each node by calculating its mean distance of the weight for that node from the weights of its neighbouring nodes in a define neighborhood ridus. This ditance is visualized by color coding the distance values for each node. The brighter colors mean means higher MID distance and vice-versa. \n",
    "\n",
    " The higher MID represents the outlier node which hrlps us to uidentify the cheaters by checking the cutomers assign to that node. \n",
    " we are intersted in customers that their credit card applications are approved. Therefore we add circular and rectangular  markers to the MID map to distinguish them.  The green rectangular and red circle are going to correspond to the customers who did and did not get approval from the bank respectively.  \n"
   ]
  },
  {
   "cell_type": "code",
   "execution_count": 8,
   "metadata": {
    "colab": {
     "base_uri": "https://localhost:8080/",
     "height": 269
    },
    "colab_type": "code",
    "id": "cshl06SmAAV8",
    "outputId": "e183b980-8d59-473a-d72d-f3086473e90d"
   },
   "outputs": [
    {
     "data": {
      "image/png": "[encoded data removed]",
      "text/plain": [
       "<Figure size 432x288 with 2 Axes>"
      ]
     },
     "metadata": {
      "needs_background": "light"
     },
     "output_type": "display_data"
    }
   ],
   "source": [
    "from pylab import bone, pcolor, colorbar, plot, show\n",
    "bone()\n",
    "pcolor(som.distance_map().T)\n",
    "colorbar()\n",
    "markers = ['o', 's']\n",
    "colors = ['r', 'g']\n",
    "for i, x in enumerate(X):\n",
    "    w = som.winner(x)\n",
    "    plot(w[0] + 0.5,\n",
    "         w[1] + 0.5,\n",
    "         markers[y[i]],\n",
    "         markeredgecolor = colors[y[i]],\n",
    "         markerfacecolor = 'None',\n",
    "         markersize = 10,\n",
    "         markeredgewidth = 2)\n",
    "show()"
   ]
  },
  {
   "cell_type": "markdown",
   "metadata": {
    "colab_type": "text",
    "id": "gijZkcIGAAWA"
   },
   "source": [
    "## Finding the frauds\n"
   ]
  },
  {
   "cell_type": "code",
   "execution_count": 9,
   "metadata": {
    "colab": {},
    "colab_type": "code",
    "id": "EJIH9sDvAAWA"
   },
   "outputs": [],
   "source": [
    "mappings = som.win_map(X)\n",
    "frauds = np.concatenate((mappings[(4,6)], mappings[(8,1)]), axis = 0)\n",
    "frauds = sc.inverse_transform(frauds)"
   ]
  },
  {
   "cell_type": "markdown",
   "metadata": {
    "colab_type": "text",
    "id": "EOVO2DzCAAWD"
   },
   "source": [
    "##Printing the Fraunch Clients"
   ]
  },
  {
   "cell_type": "code",
   "execution_count": 10,
   "metadata": {
    "colab": {
     "base_uri": "https://localhost:8080/",
     "height": 833
    },
    "colab_type": "code",
    "id": "IjotUwR3AAWD",
    "outputId": "6babd385-f60f-42db-b5cf-c7b881da768f"
   },
   "outputs": [
    {
     "name": "stdout",
     "output_type": "stream",
     "text": [
      "Fraud Customer IDs\n",
      "15757467\n",
      "15815443\n",
      "15748432\n",
      "15696287\n",
      "15698749\n",
      "15773776\n",
      "15791769\n",
      "15571121\n",
      "15660390\n",
      "15577515\n",
      "15598802\n",
      "15657778\n",
      "15652658\n",
      "15624595\n",
      "15688264\n",
      "15720644\n",
      "15746258\n",
      "15644878\n",
      "15671987\n",
      "15700511\n"
     ]
    }
   ],
   "source": [
    "print('Fraud Customer IDs')\n",
    "for i in frauds[:, 0]:\n",
    "    print(int(i))"
   ]
  },
  {
   "cell_type": "markdown",
   "metadata": {
    "colab_type": "text",
    "id": "-9oatjNmAC8i"
   },
   "source": [
    "#Part 2 - Going from Unsupervised to Supervised Deep Learning"
   ]
  },
  {
   "cell_type": "markdown",
   "metadata": {
    "colab_type": "text",
    "id": "eDv-ecVtAtwU"
   },
   "source": [
    "##Create Matrix of Features"
   ]
  },
  {
   "cell_type": "code",
   "execution_count": 11,
   "metadata": {
    "colab": {},
    "colab_type": "code",
    "id": "h3ADq7HsA3Sh"
   },
   "outputs": [],
   "source": [
    "customers = dataset.iloc[:, 1:].values"
   ]
  },
  {
   "cell_type": "markdown",
   "metadata": {
    "colab_type": "text",
    "id": "ycrQvNAvBAng"
   },
   "source": [
    "## Create Dependent Variable"
   ]
  },
  {
   "cell_type": "code",
   "execution_count": 12,
   "metadata": {
    "colab": {},
    "colab_type": "code",
    "id": "Dt1TQG3NBFDM"
   },
   "outputs": [],
   "source": [
    "is_fraud = np.zeros(len(dataset))\n",
    "for i in range(len(dataset)):\n",
    "    if dataset.iloc[i,0] in frauds:\n",
    "        is_fraud[i] = 1"
   ]
  },
  {
   "cell_type": "markdown",
   "metadata": {
    "colab_type": "text",
    "id": "OgQBLi0iBsji"
   },
   "source": [
    "#Part 3 - ANN"
   ]
  },
  {
   "cell_type": "markdown",
   "metadata": {
    "colab_type": "text",
    "id": "RE_FcHyfV3TQ"
   },
   "source": [
    "### Feature Scaling"
   ]
  },
  {
   "cell_type": "code",
   "execution_count": 13,
   "metadata": {
    "colab": {},
    "colab_type": "code",
    "id": "ViCrE00rV8Sk"
   },
   "outputs": [],
   "source": [
    "from sklearn.preprocessing import StandardScaler\n",
    "sc = StandardScaler()\n",
    "customers = sc.fit_transform(customers)"
   ]
  },
  {
   "cell_type": "markdown",
   "metadata": {
    "colab_type": "text",
    "id": "-zfEzkRVXIwF"
   },
   "source": [
    "## Building the ANN"
   ]
  },
  {
   "cell_type": "markdown",
   "metadata": {
    "colab_type": "text",
    "id": "S5-uTVVvCcTf"
   },
   "source": [
    "##Import Tensorflow"
   ]
  },
  {
   "cell_type": "code",
   "execution_count": 14,
   "metadata": {
    "colab": {
     "base_uri": "https://localhost:8080/",
     "height": 34
    },
    "colab_type": "code",
    "id": "veBa6HoECbZI",
    "outputId": "bec46426-fda2-40fd-832c-09b6a44001a9"
   },
   "outputs": [
    {
     "data": {
      "text/plain": [
       "'2.12.0'"
      ]
     },
     "execution_count": 14,
     "metadata": {},
     "output_type": "execute_result"
    }
   ],
   "source": [
    "import tensorflow as tf\n",
    "tf.__version__"
   ]
  },
  {
   "cell_type": "markdown",
   "metadata": {
    "colab_type": "text",
    "id": "KvdeScabXtlB"
   },
   "source": [
    "## Initializing the ANN"
   ]
  },
  {
   "cell_type": "code",
   "execution_count": 15,
   "metadata": {
    "colab": {},
    "colab_type": "code",
    "id": "3dtrScHxXQox"
   },
   "outputs": [],
   "source": [
    "ann = tf.keras.models.Sequential()"
   ]
  },
  {
   "cell_type": "markdown",
   "metadata": {
    "colab_type": "text",
    "id": "rP6urV6SX7kS"
   },
   "source": [
    "##Adding the input layer and the first hidden layer"
   ]
  },
  {
   "cell_type": "code",
   "execution_count": 16,
   "metadata": {
    "colab": {},
    "colab_type": "code",
    "id": "bppGycBXYCQr"
   },
   "outputs": [],
   "source": [
    "ann.add(tf.keras.layers.Dense(units=2, activation='relu'))"
   ]
  },
  {
   "cell_type": "markdown",
   "metadata": {
    "colab_type": "text",
    "id": "OyNEe6RXYcU4"
   },
   "source": [
    "## Adding the output layer"
   ]
  },
  {
   "cell_type": "code",
   "execution_count": 17,
   "metadata": {
    "colab": {},
    "colab_type": "code",
    "id": "Cn3x41RBYfvY"
   },
   "outputs": [],
   "source": [
    "ann.add(tf.keras.layers.Dense(units=1, activation='sigmoid'))"
   ]
  },
  {
   "cell_type": "markdown",
   "metadata": {
    "colab_type": "text",
    "id": "JT4u2S1_Y4WG"
   },
   "source": [
    "## Training the ANN"
   ]
  },
  {
   "cell_type": "markdown",
   "metadata": {
    "colab_type": "text",
    "id": "8GWlJChhY_ZI"
   },
   "source": [
    "## Compiling the ANN"
   ]
  },
  {
   "cell_type": "code",
   "execution_count": 18,
   "metadata": {
    "colab": {},
    "colab_type": "code",
    "id": "fG3RrwDXZEaS"
   },
   "outputs": [],
   "source": [
    "ann.compile(optimizer = 'adam', loss = 'binary_crossentropy', metrics = ['accuracy'])"
   ]
  },
  {
   "cell_type": "markdown",
   "metadata": {
    "colab_type": "text",
    "id": "0QR_G5u7ZLSM"
   },
   "source": [
    "## Training the ANN on the Training set"
   ]
  },
  {
   "cell_type": "code",
   "execution_count": 19,
   "metadata": {
    "colab": {
     "base_uri": "https://localhost:8080/",
     "height": 374
    },
    "colab_type": "code",
    "id": "nHZ-LKv_ZRb3",
    "outputId": "b9f6c5ec-47ae-4ebf-868b-d72ed3c02996"
   },
   "outputs": [
    {
     "name": "stdout",
     "output_type": "stream",
     "text": [
      "Epoch 1/10\n",
      "690/690 [==============================] - 1s 830us/step - loss: 0.6358 - accuracy: 0.7029\n",
      "Epoch 2/10\n",
      "690/690 [==============================] - 1s 827us/step - loss: 0.3053 - accuracy: 0.9217\n",
      "Epoch 3/10\n",
      "690/690 [==============================] - 1s 832us/step - loss: 0.1954 - accuracy: 0.9681\n",
      "Epoch 4/10\n",
      "690/690 [==============================] - 1s 848us/step - loss: 0.1468 - accuracy: 0.9681\n",
      "Epoch 5/10\n",
      "690/690 [==============================] - 1s 843us/step - loss: 0.1215 - accuracy: 0.9710\n",
      "Epoch 6/10\n",
      "690/690 [==============================] - 1s 862us/step - loss: 0.1073 - accuracy: 0.9710\n",
      "Epoch 7/10\n",
      "690/690 [==============================] - 1s 831us/step - loss: 0.0974 - accuracy: 0.9710\n",
      "Epoch 8/10\n",
      "690/690 [==============================] - 1s 833us/step - loss: 0.0903 - accuracy: 0.9710\n",
      "Epoch 9/10\n",
      "690/690 [==============================] - 1s 788us/step - loss: 0.0849 - accuracy: 0.9710\n",
      "Epoch 10/10\n",
      "690/690 [==============================] - 1s 782us/step - loss: 0.0812 - accuracy: 0.9710\n"
     ]
    },
    {
     "data": {
      "text/plain": [
       "<keras.callbacks.History at 0x27406a2cd90>"
      ]
     },
     "execution_count": 19,
     "metadata": {},
     "output_type": "execute_result"
    }
   ],
   "source": [
    "ann.fit(customers, is_fraud, batch_size = 1, epochs = 10)"
   ]
  },
  {
   "cell_type": "markdown",
   "metadata": {
    "colab_type": "text",
    "id": "tJj5k2MxZga3"
   },
   "source": [
    "## Predicting test set results"
   ]
  },
  {
   "cell_type": "code",
   "execution_count": 20,
   "metadata": {
    "colab": {},
    "colab_type": "code",
    "id": "nIyEeQdRZwgs"
   },
   "outputs": [
    {
     "name": "stdout",
     "output_type": "stream",
     "text": [
      "22/22 [==============================] - 0s 809us/step\n"
     ]
    }
   ],
   "source": [
    "y_pred = ann.predict(customers)\n",
    "y_pred = np.concatenate((dataset.iloc[:, 0:1].values, y_pred), axis = 1)\n",
    "y_pred = y_pred[y_pred[:, 1].argsort()]"
   ]
  },
  {
   "cell_type": "code",
   "execution_count": 21,
   "metadata": {
    "colab": {},
    "colab_type": "code",
    "id": "fX2iDXYiD-sN"
   },
   "outputs": [
    {
     "name": "stdout",
     "output_type": "stream",
     "text": [
      "[[1.56430560e+07 3.59383023e-07]\n",
      " [1.57225350e+07 8.17731234e-07]\n",
      " [1.56036830e+07 9.35753974e-07]\n",
      " ...\n",
      " [1.56420980e+07 1.78323239e-01]\n",
      " [1.56448780e+07 1.85238972e-01]\n",
      " [1.55988020e+07 3.38078439e-01]]\n"
     ]
    }
   ],
   "source": [
    "print(y_pred)"
   ]
  },
  {
   "cell_type": "code",
   "execution_count": 22,
   "metadata": {},
   "outputs": [
    {
     "name": "stdout",
     "output_type": "stream",
     "text": [
      "Fraud Customer IDs\n",
      "15757467\n",
      "15815443\n",
      "15748432\n",
      "15696287\n",
      "15698749\n",
      "15773776\n",
      "15791769\n",
      "15571121\n",
      "15660390\n",
      "15577515\n",
      "15598802\n",
      "15657778\n",
      "15652658\n",
      "15624595\n",
      "15688264\n",
      "15720644\n",
      "15746258\n",
      "15644878\n",
      "15671987\n",
      "15700511\n"
     ]
    }
   ],
   "source": [
    "print('Fraud Customer IDs')\n",
    "for i in frauds[:, 0]:\n",
    "    print(int(i))"
   ]
  },
  {
   "cell_type": "code",
   "execution_count": 26,
   "metadata": {},
   "outputs": [
    {
     "name": "stdout",
     "output_type": "stream",
     "text": [
      "22/22 [==============================] - 0s 809us/step\n"
     ]
    }
   ],
   "source": [
    "y_pred = ann.predict(customers)"
   ]
  },
  {
   "cell_type": "markdown",
   "metadata": {},
   "source": [
    "# Estimating the probability of each customer and  creating a dataframe  based on the ID of the customer and the probability of the customer being a fraudster"
   ]
  },
  {
   "cell_type": "code",
   "execution_count": 30,
   "metadata": {},
   "outputs": [],
   "source": [
    "d = {'CustomerID': dataset.iloc[:, 0:1].values.reshape((1,-1))[0], 'prob': y_pred.reshape((1,-1))[0]}\n",
    "df = pd.DataFrame(data=d)"
   ]
  },
  {
   "cell_type": "code",
   "execution_count": 23,
   "metadata": {},
   "outputs": [
    {
     "data": {
      "text/html": [
       "<div>\n",
       "<style scoped>\n",
       "    .dataframe tbody tr th:only-of-type {\n",
       "        vertical-align: middle;\n",
       "    }\n",
       "\n",
       "    .dataframe tbody tr th {\n",
       "        vertical-align: top;\n",
       "    }\n",
       "\n",
       "    .dataframe thead th {\n",
       "        text-align: right;\n",
       "    }\n",
       "</style>\n",
       "<table border=\"1\" class=\"dataframe\">\n",
       "  <thead>\n",
       "    <tr style=\"text-align: right;\">\n",
       "      <th></th>\n",
       "      <th>CustomerID</th>\n",
       "      <th>prob</th>\n",
       "    </tr>\n",
       "  </thead>\n",
       "  <tbody>\n",
       "    <tr>\n",
       "      <th>0</th>\n",
       "      <td>15776156</td>\n",
       "      <td>0.002739</td>\n",
       "    </tr>\n",
       "    <tr>\n",
       "      <th>1</th>\n",
       "      <td>15739548</td>\n",
       "      <td>0.001040</td>\n",
       "    </tr>\n",
       "    <tr>\n",
       "      <th>2</th>\n",
       "      <td>15662854</td>\n",
       "      <td>0.031466</td>\n",
       "    </tr>\n",
       "    <tr>\n",
       "      <th>3</th>\n",
       "      <td>15687688</td>\n",
       "      <td>0.003103</td>\n",
       "    </tr>\n",
       "    <tr>\n",
       "      <th>4</th>\n",
       "      <td>15715750</td>\n",
       "      <td>0.000879</td>\n",
       "    </tr>\n",
       "  </tbody>\n",
       "</table>\n",
       "</div>"
      ],
      "text/plain": [
       "   CustomerID      prob\n",
       "0    15776156  0.002739\n",
       "1    15739548  0.001040\n",
       "2    15662854  0.031466\n",
       "3    15687688  0.003103\n",
       "4    15715750  0.000879"
      ]
     },
     "execution_count": 23,
     "metadata": {},
     "output_type": "execute_result"
    }
   ],
   "source": [
    "df.head()"
   ]
  }
 ],
 "metadata": {
  "colab": {
   "collapsed_sections": [],
   "name": "Mega_Case_Study.ipynb",
   "provenance": [],
   "toc_visible": true
  },
  "kernelspec": {
   "display_name": "Python 3",
   "language": "python",
   "name": "python3"
  },
  "language_info": {
   "codemirror_mode": {
    "name": "ipython",
    "version": 3
   },
   "file_extension": ".py",
   "mimetype": "text/x-python",
   "name": "python",
   "nbconvert_exporter": "python",
   "pygments_lexer": "ipython3",
   "version": "3.9.13"
  }
 },
 "nbformat": 4,
 "nbformat_minor": 1
}
